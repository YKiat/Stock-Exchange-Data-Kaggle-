{
  "nbformat": 4,
  "nbformat_minor": 0,
  "metadata": {
    "colab": {
      "name": "Stock Exchange Data.ipynb",
      "provenance": [],
      "authorship_tag": "ABX9TyMt9dnW+BgxUMm0BBUpG3HF",
      "include_colab_link": true
    },
    "kernelspec": {
      "name": "python3",
      "display_name": "Python 3"
    },
    "language_info": {
      "name": "python"
    }
  },
  "cells": [
    {
      "cell_type": "markdown",
      "metadata": {
        "id": "view-in-github",
        "colab_type": "text"
      },
      "source": [
        "<a href=\"https://colab.research.google.com/github/YKiat/Stock-Exchange-Data-Kaggle-/blob/main/Stock_Exchange_Data.ipynb\" target=\"_parent\"><img src=\"https://colab.research.google.com/assets/colab-badge.svg\" alt=\"Open In Colab\"/></a>"
      ]
    },
    {
      "cell_type": "code",
      "metadata": {
        "id": "zXIscrnWtNPd"
      },
      "source": [
        "import pandas as pd \n",
        "import numpy as np \n",
        "import matplotlib.pyplot as plt"
      ],
      "execution_count": null,
      "outputs": []
    },
    {
      "cell_type": "code",
      "metadata": {
        "id": "l6gOTnyAtvVW"
      },
      "source": [
        "stocks_data = pd.read_csv('/content/indexData.csv')"
      ],
      "execution_count": null,
      "outputs": []
    },
    {
      "cell_type": "markdown",
      "metadata": {
        "id": "8pZnGubouZTr"
      },
      "source": [
        "See how the data distributed in columns \n"
      ]
    },
    {
      "cell_type": "code",
      "metadata": {
        "colab": {
          "base_uri": "https://localhost:8080/",
          "height": 203
        },
        "id": "_LhHQlipuL8G",
        "outputId": "fa247ecc-50d0-4591-f242-e3de4dc230a7"
      },
      "source": [
        "stocks_data.head()"
      ],
      "execution_count": null,
      "outputs": [
        {
          "output_type": "execute_result",
          "data": {
            "text/html": [
              "<div>\n",
              "<style scoped>\n",
              "    .dataframe tbody tr th:only-of-type {\n",
              "        vertical-align: middle;\n",
              "    }\n",
              "\n",
              "    .dataframe tbody tr th {\n",
              "        vertical-align: top;\n",
              "    }\n",
              "\n",
              "    .dataframe thead th {\n",
              "        text-align: right;\n",
              "    }\n",
              "</style>\n",
              "<table border=\"1\" class=\"dataframe\">\n",
              "  <thead>\n",
              "    <tr style=\"text-align: right;\">\n",
              "      <th></th>\n",
              "      <th>Index</th>\n",
              "      <th>Date</th>\n",
              "      <th>Open</th>\n",
              "      <th>High</th>\n",
              "      <th>Low</th>\n",
              "      <th>Close</th>\n",
              "      <th>Adj Close</th>\n",
              "      <th>Volume</th>\n",
              "    </tr>\n",
              "  </thead>\n",
              "  <tbody>\n",
              "    <tr>\n",
              "      <th>0</th>\n",
              "      <td>NYA</td>\n",
              "      <td>1965-12-31</td>\n",
              "      <td>528.690002</td>\n",
              "      <td>528.690002</td>\n",
              "      <td>528.690002</td>\n",
              "      <td>528.690002</td>\n",
              "      <td>528.690002</td>\n",
              "      <td>0.0</td>\n",
              "    </tr>\n",
              "    <tr>\n",
              "      <th>1</th>\n",
              "      <td>NYA</td>\n",
              "      <td>1966-01-03</td>\n",
              "      <td>527.210022</td>\n",
              "      <td>527.210022</td>\n",
              "      <td>527.210022</td>\n",
              "      <td>527.210022</td>\n",
              "      <td>527.210022</td>\n",
              "      <td>0.0</td>\n",
              "    </tr>\n",
              "    <tr>\n",
              "      <th>2</th>\n",
              "      <td>NYA</td>\n",
              "      <td>1966-01-04</td>\n",
              "      <td>527.840027</td>\n",
              "      <td>527.840027</td>\n",
              "      <td>527.840027</td>\n",
              "      <td>527.840027</td>\n",
              "      <td>527.840027</td>\n",
              "      <td>0.0</td>\n",
              "    </tr>\n",
              "    <tr>\n",
              "      <th>3</th>\n",
              "      <td>NYA</td>\n",
              "      <td>1966-01-05</td>\n",
              "      <td>531.119995</td>\n",
              "      <td>531.119995</td>\n",
              "      <td>531.119995</td>\n",
              "      <td>531.119995</td>\n",
              "      <td>531.119995</td>\n",
              "      <td>0.0</td>\n",
              "    </tr>\n",
              "    <tr>\n",
              "      <th>4</th>\n",
              "      <td>NYA</td>\n",
              "      <td>1966-01-06</td>\n",
              "      <td>532.070007</td>\n",
              "      <td>532.070007</td>\n",
              "      <td>532.070007</td>\n",
              "      <td>532.070007</td>\n",
              "      <td>532.070007</td>\n",
              "      <td>0.0</td>\n",
              "    </tr>\n",
              "  </tbody>\n",
              "</table>\n",
              "</div>"
            ],
            "text/plain": [
              "  Index        Date        Open  ...       Close   Adj Close  Volume\n",
              "0   NYA  1965-12-31  528.690002  ...  528.690002  528.690002     0.0\n",
              "1   NYA  1966-01-03  527.210022  ...  527.210022  527.210022     0.0\n",
              "2   NYA  1966-01-04  527.840027  ...  527.840027  527.840027     0.0\n",
              "3   NYA  1966-01-05  531.119995  ...  531.119995  531.119995     0.0\n",
              "4   NYA  1966-01-06  532.070007  ...  532.070007  532.070007     0.0\n",
              "\n",
              "[5 rows x 8 columns]"
            ]
          },
          "metadata": {},
          "execution_count": 3
        }
      ]
    },
    {
      "cell_type": "markdown",
      "metadata": {
        "id": "iOOZkSS3ugPY"
      },
      "source": [
        "Checking the data dimensions, null value, and shape"
      ]
    },
    {
      "cell_type": "code",
      "metadata": {
        "colab": {
          "base_uri": "https://localhost:8080/"
        },
        "id": "0tgNwaOSuNlO",
        "outputId": "ff3a7d6c-9e90-4e93-fb5f-58d0c7a43126"
      },
      "source": [
        "stocks_data.shape"
      ],
      "execution_count": null,
      "outputs": [
        {
          "output_type": "execute_result",
          "data": {
            "text/plain": [
              "(112457, 8)"
            ]
          },
          "metadata": {},
          "execution_count": 4
        }
      ]
    },
    {
      "cell_type": "code",
      "metadata": {
        "colab": {
          "base_uri": "https://localhost:8080/"
        },
        "id": "zq2POmWmumOm",
        "outputId": "8e806386-41b1-4e1b-8a24-2d369ed25865"
      },
      "source": [
        "stocks_data.info()"
      ],
      "execution_count": null,
      "outputs": [
        {
          "output_type": "stream",
          "text": [
            "<class 'pandas.core.frame.DataFrame'>\n",
            "RangeIndex: 112457 entries, 0 to 112456\n",
            "Data columns (total 8 columns):\n",
            " #   Column     Non-Null Count   Dtype  \n",
            "---  ------     --------------   -----  \n",
            " 0   Index      112457 non-null  object \n",
            " 1   Date       112457 non-null  object \n",
            " 2   Open       110253 non-null  float64\n",
            " 3   High       110253 non-null  float64\n",
            " 4   Low        110253 non-null  float64\n",
            " 5   Close      110253 non-null  float64\n",
            " 6   Adj Close  110253 non-null  float64\n",
            " 7   Volume     110253 non-null  float64\n",
            "dtypes: float64(6), object(2)\n",
            "memory usage: 6.9+ MB\n"
          ],
          "name": "stdout"
        }
      ]
    },
    {
      "cell_type": "markdown",
      "metadata": {
        "id": "2wR__UoPuwnK"
      },
      "source": [
        "From the info above, we could see there is 112457-110253 = 2204 null entries/rows"
      ]
    },
    {
      "cell_type": "markdown",
      "metadata": {
        "id": "6S5CoFV-u8df"
      },
      "source": [
        "Removing null in the data "
      ]
    },
    {
      "cell_type": "code",
      "metadata": {
        "id": "hzwoSQNnuqSs"
      },
      "source": [
        "stocks_data = stocks_data.dropna()"
      ],
      "execution_count": null,
      "outputs": []
    },
    {
      "cell_type": "code",
      "metadata": {
        "colab": {
          "base_uri": "https://localhost:8080/"
        },
        "id": "l4N2FRyVvFYH",
        "outputId": "d0886201-6d49-4189-b78d-3d7fc477abcf"
      },
      "source": [
        "stocks_data.info()"
      ],
      "execution_count": null,
      "outputs": [
        {
          "output_type": "stream",
          "text": [
            "<class 'pandas.core.frame.DataFrame'>\n",
            "Int64Index: 110253 entries, 0 to 112456\n",
            "Data columns (total 8 columns):\n",
            " #   Column     Non-Null Count   Dtype  \n",
            "---  ------     --------------   -----  \n",
            " 0   Index      110253 non-null  object \n",
            " 1   Date       110253 non-null  object \n",
            " 2   Open       110253 non-null  float64\n",
            " 3   High       110253 non-null  float64\n",
            " 4   Low        110253 non-null  float64\n",
            " 5   Close      110253 non-null  float64\n",
            " 6   Adj Close  110253 non-null  float64\n",
            " 7   Volume     110253 non-null  float64\n",
            "dtypes: float64(6), object(2)\n",
            "memory usage: 7.6+ MB\n"
          ],
          "name": "stdout"
        }
      ]
    },
    {
      "cell_type": "code",
      "metadata": {
        "colab": {
          "base_uri": "https://localhost:8080/",
          "height": 203
        },
        "id": "TgeQhctwvGtq",
        "outputId": "b82e128d-0295-42c4-8845-9b34d0c7605d"
      },
      "source": [
        "stocks_data.head()"
      ],
      "execution_count": null,
      "outputs": [
        {
          "output_type": "execute_result",
          "data": {
            "text/html": [
              "<div>\n",
              "<style scoped>\n",
              "    .dataframe tbody tr th:only-of-type {\n",
              "        vertical-align: middle;\n",
              "    }\n",
              "\n",
              "    .dataframe tbody tr th {\n",
              "        vertical-align: top;\n",
              "    }\n",
              "\n",
              "    .dataframe thead th {\n",
              "        text-align: right;\n",
              "    }\n",
              "</style>\n",
              "<table border=\"1\" class=\"dataframe\">\n",
              "  <thead>\n",
              "    <tr style=\"text-align: right;\">\n",
              "      <th></th>\n",
              "      <th>Index</th>\n",
              "      <th>Date</th>\n",
              "      <th>Open</th>\n",
              "      <th>High</th>\n",
              "      <th>Low</th>\n",
              "      <th>Close</th>\n",
              "      <th>Adj Close</th>\n",
              "      <th>Volume</th>\n",
              "    </tr>\n",
              "  </thead>\n",
              "  <tbody>\n",
              "    <tr>\n",
              "      <th>0</th>\n",
              "      <td>NYA</td>\n",
              "      <td>1965-12-31</td>\n",
              "      <td>528.690002</td>\n",
              "      <td>528.690002</td>\n",
              "      <td>528.690002</td>\n",
              "      <td>528.690002</td>\n",
              "      <td>528.690002</td>\n",
              "      <td>0.0</td>\n",
              "    </tr>\n",
              "    <tr>\n",
              "      <th>1</th>\n",
              "      <td>NYA</td>\n",
              "      <td>1966-01-03</td>\n",
              "      <td>527.210022</td>\n",
              "      <td>527.210022</td>\n",
              "      <td>527.210022</td>\n",
              "      <td>527.210022</td>\n",
              "      <td>527.210022</td>\n",
              "      <td>0.0</td>\n",
              "    </tr>\n",
              "    <tr>\n",
              "      <th>2</th>\n",
              "      <td>NYA</td>\n",
              "      <td>1966-01-04</td>\n",
              "      <td>527.840027</td>\n",
              "      <td>527.840027</td>\n",
              "      <td>527.840027</td>\n",
              "      <td>527.840027</td>\n",
              "      <td>527.840027</td>\n",
              "      <td>0.0</td>\n",
              "    </tr>\n",
              "    <tr>\n",
              "      <th>3</th>\n",
              "      <td>NYA</td>\n",
              "      <td>1966-01-05</td>\n",
              "      <td>531.119995</td>\n",
              "      <td>531.119995</td>\n",
              "      <td>531.119995</td>\n",
              "      <td>531.119995</td>\n",
              "      <td>531.119995</td>\n",
              "      <td>0.0</td>\n",
              "    </tr>\n",
              "    <tr>\n",
              "      <th>4</th>\n",
              "      <td>NYA</td>\n",
              "      <td>1966-01-06</td>\n",
              "      <td>532.070007</td>\n",
              "      <td>532.070007</td>\n",
              "      <td>532.070007</td>\n",
              "      <td>532.070007</td>\n",
              "      <td>532.070007</td>\n",
              "      <td>0.0</td>\n",
              "    </tr>\n",
              "  </tbody>\n",
              "</table>\n",
              "</div>"
            ],
            "text/plain": [
              "  Index        Date        Open  ...       Close   Adj Close  Volume\n",
              "0   NYA  1965-12-31  528.690002  ...  528.690002  528.690002     0.0\n",
              "1   NYA  1966-01-03  527.210022  ...  527.210022  527.210022     0.0\n",
              "2   NYA  1966-01-04  527.840027  ...  527.840027  527.840027     0.0\n",
              "3   NYA  1966-01-05  531.119995  ...  531.119995  531.119995     0.0\n",
              "4   NYA  1966-01-06  532.070007  ...  532.070007  532.070007     0.0\n",
              "\n",
              "[5 rows x 8 columns]"
            ]
          },
          "metadata": {},
          "execution_count": 8
        }
      ]
    },
    {
      "cell_type": "markdown",
      "metadata": {
        "id": "ZeL06KghwDlP"
      },
      "source": [
        "Read the indexinfo data to have a look what does the Index column here means "
      ]
    },
    {
      "cell_type": "code",
      "metadata": {
        "id": "Cs6JPxpevjac"
      },
      "source": [
        "indexinfo = pd.read_csv('/content/indexInfo.csv')"
      ],
      "execution_count": null,
      "outputs": []
    },
    {
      "cell_type": "code",
      "metadata": {
        "colab": {
          "base_uri": "https://localhost:8080/",
          "height": 203
        },
        "id": "dAnb0fE_wNrT",
        "outputId": "de9aaee3-46cc-41fb-e582-c9d6555f1966"
      },
      "source": [
        "indexinfo.head()"
      ],
      "execution_count": null,
      "outputs": [
        {
          "output_type": "execute_result",
          "data": {
            "text/html": [
              "<div>\n",
              "<style scoped>\n",
              "    .dataframe tbody tr th:only-of-type {\n",
              "        vertical-align: middle;\n",
              "    }\n",
              "\n",
              "    .dataframe tbody tr th {\n",
              "        vertical-align: top;\n",
              "    }\n",
              "\n",
              "    .dataframe thead th {\n",
              "        text-align: right;\n",
              "    }\n",
              "</style>\n",
              "<table border=\"1\" class=\"dataframe\">\n",
              "  <thead>\n",
              "    <tr style=\"text-align: right;\">\n",
              "      <th></th>\n",
              "      <th>Region</th>\n",
              "      <th>Exchange</th>\n",
              "      <th>Index</th>\n",
              "      <th>Currency</th>\n",
              "    </tr>\n",
              "  </thead>\n",
              "  <tbody>\n",
              "    <tr>\n",
              "      <th>0</th>\n",
              "      <td>United States</td>\n",
              "      <td>New York Stock Exchange</td>\n",
              "      <td>NYA</td>\n",
              "      <td>USD</td>\n",
              "    </tr>\n",
              "    <tr>\n",
              "      <th>1</th>\n",
              "      <td>United States</td>\n",
              "      <td>NASDAQ</td>\n",
              "      <td>IXIC</td>\n",
              "      <td>USD</td>\n",
              "    </tr>\n",
              "    <tr>\n",
              "      <th>2</th>\n",
              "      <td>Hong Kong</td>\n",
              "      <td>Hong Kong Stock Exchange</td>\n",
              "      <td>HSI</td>\n",
              "      <td>HKD</td>\n",
              "    </tr>\n",
              "    <tr>\n",
              "      <th>3</th>\n",
              "      <td>China</td>\n",
              "      <td>Shanghai Stock Exchange</td>\n",
              "      <td>000001.SS</td>\n",
              "      <td>CNY</td>\n",
              "    </tr>\n",
              "    <tr>\n",
              "      <th>4</th>\n",
              "      <td>Japan</td>\n",
              "      <td>Tokyo Stock Exchange</td>\n",
              "      <td>N225</td>\n",
              "      <td>JPY</td>\n",
              "    </tr>\n",
              "  </tbody>\n",
              "</table>\n",
              "</div>"
            ],
            "text/plain": [
              "          Region                  Exchange      Index Currency\n",
              "0  United States   New York Stock Exchange        NYA      USD\n",
              "1  United States                    NASDAQ       IXIC      USD\n",
              "2      Hong Kong  Hong Kong Stock Exchange        HSI      HKD\n",
              "3          China   Shanghai Stock Exchange  000001.SS      CNY\n",
              "4          Japan      Tokyo Stock Exchange       N225      JPY"
            ]
          },
          "metadata": {},
          "execution_count": 10
        }
      ]
    },
    {
      "cell_type": "code",
      "metadata": {
        "colab": {
          "base_uri": "https://localhost:8080/"
        },
        "id": "IZKamyPcwRqu",
        "outputId": "e005592a-2d05-415d-e437-153522af5b92"
      },
      "source": [
        "indexinfo.info()"
      ],
      "execution_count": null,
      "outputs": [
        {
          "output_type": "stream",
          "text": [
            "<class 'pandas.core.frame.DataFrame'>\n",
            "RangeIndex: 14 entries, 0 to 13\n",
            "Data columns (total 4 columns):\n",
            " #   Column    Non-Null Count  Dtype \n",
            "---  ------    --------------  ----- \n",
            " 0   Region    14 non-null     object\n",
            " 1   Exchange  14 non-null     object\n",
            " 2   Index     14 non-null     object\n",
            " 3   Currency  14 non-null     object\n",
            "dtypes: object(4)\n",
            "memory usage: 576.0+ bytes\n"
          ],
          "name": "stdout"
        }
      ]
    },
    {
      "cell_type": "code",
      "metadata": {
        "id": "Mh2haQubwTl_"
      },
      "source": [
        "stocks_index = stocks_data.merge(indexinfo,on='Index')"
      ],
      "execution_count": null,
      "outputs": []
    },
    {
      "cell_type": "code",
      "metadata": {
        "colab": {
          "base_uri": "https://localhost:8080/",
          "height": 203
        },
        "id": "mx1m3SM5wdHh",
        "outputId": "2b513cc7-ff9d-40cf-c530-3bada8af8d9a"
      },
      "source": [
        "stocks_index.head()"
      ],
      "execution_count": null,
      "outputs": [
        {
          "output_type": "execute_result",
          "data": {
            "text/html": [
              "<div>\n",
              "<style scoped>\n",
              "    .dataframe tbody tr th:only-of-type {\n",
              "        vertical-align: middle;\n",
              "    }\n",
              "\n",
              "    .dataframe tbody tr th {\n",
              "        vertical-align: top;\n",
              "    }\n",
              "\n",
              "    .dataframe thead th {\n",
              "        text-align: right;\n",
              "    }\n",
              "</style>\n",
              "<table border=\"1\" class=\"dataframe\">\n",
              "  <thead>\n",
              "    <tr style=\"text-align: right;\">\n",
              "      <th></th>\n",
              "      <th>Index</th>\n",
              "      <th>Date</th>\n",
              "      <th>Open</th>\n",
              "      <th>High</th>\n",
              "      <th>Low</th>\n",
              "      <th>Close</th>\n",
              "      <th>Adj Close</th>\n",
              "      <th>Volume</th>\n",
              "      <th>Region</th>\n",
              "      <th>Exchange</th>\n",
              "      <th>Currency</th>\n",
              "    </tr>\n",
              "  </thead>\n",
              "  <tbody>\n",
              "    <tr>\n",
              "      <th>0</th>\n",
              "      <td>NYA</td>\n",
              "      <td>1965-12-31</td>\n",
              "      <td>528.690002</td>\n",
              "      <td>528.690002</td>\n",
              "      <td>528.690002</td>\n",
              "      <td>528.690002</td>\n",
              "      <td>528.690002</td>\n",
              "      <td>0.0</td>\n",
              "      <td>United States</td>\n",
              "      <td>New York Stock Exchange</td>\n",
              "      <td>USD</td>\n",
              "    </tr>\n",
              "    <tr>\n",
              "      <th>1</th>\n",
              "      <td>NYA</td>\n",
              "      <td>1966-01-03</td>\n",
              "      <td>527.210022</td>\n",
              "      <td>527.210022</td>\n",
              "      <td>527.210022</td>\n",
              "      <td>527.210022</td>\n",
              "      <td>527.210022</td>\n",
              "      <td>0.0</td>\n",
              "      <td>United States</td>\n",
              "      <td>New York Stock Exchange</td>\n",
              "      <td>USD</td>\n",
              "    </tr>\n",
              "    <tr>\n",
              "      <th>2</th>\n",
              "      <td>NYA</td>\n",
              "      <td>1966-01-04</td>\n",
              "      <td>527.840027</td>\n",
              "      <td>527.840027</td>\n",
              "      <td>527.840027</td>\n",
              "      <td>527.840027</td>\n",
              "      <td>527.840027</td>\n",
              "      <td>0.0</td>\n",
              "      <td>United States</td>\n",
              "      <td>New York Stock Exchange</td>\n",
              "      <td>USD</td>\n",
              "    </tr>\n",
              "    <tr>\n",
              "      <th>3</th>\n",
              "      <td>NYA</td>\n",
              "      <td>1966-01-05</td>\n",
              "      <td>531.119995</td>\n",
              "      <td>531.119995</td>\n",
              "      <td>531.119995</td>\n",
              "      <td>531.119995</td>\n",
              "      <td>531.119995</td>\n",
              "      <td>0.0</td>\n",
              "      <td>United States</td>\n",
              "      <td>New York Stock Exchange</td>\n",
              "      <td>USD</td>\n",
              "    </tr>\n",
              "    <tr>\n",
              "      <th>4</th>\n",
              "      <td>NYA</td>\n",
              "      <td>1966-01-06</td>\n",
              "      <td>532.070007</td>\n",
              "      <td>532.070007</td>\n",
              "      <td>532.070007</td>\n",
              "      <td>532.070007</td>\n",
              "      <td>532.070007</td>\n",
              "      <td>0.0</td>\n",
              "      <td>United States</td>\n",
              "      <td>New York Stock Exchange</td>\n",
              "      <td>USD</td>\n",
              "    </tr>\n",
              "  </tbody>\n",
              "</table>\n",
              "</div>"
            ],
            "text/plain": [
              "  Index        Date  ...                 Exchange  Currency\n",
              "0   NYA  1965-12-31  ...  New York Stock Exchange       USD\n",
              "1   NYA  1966-01-03  ...  New York Stock Exchange       USD\n",
              "2   NYA  1966-01-04  ...  New York Stock Exchange       USD\n",
              "3   NYA  1966-01-05  ...  New York Stock Exchange       USD\n",
              "4   NYA  1966-01-06  ...  New York Stock Exchange       USD\n",
              "\n",
              "[5 rows x 11 columns]"
            ]
          },
          "metadata": {},
          "execution_count": 13
        }
      ]
    },
    {
      "cell_type": "code",
      "metadata": {
        "colab": {
          "base_uri": "https://localhost:8080/"
        },
        "id": "hcXcrpeCwhxQ",
        "outputId": "8c71f1e8-d06e-4668-e8cd-07921233bc03"
      },
      "source": [
        "stocks_index['Currency'].unique()"
      ],
      "execution_count": null,
      "outputs": [
        {
          "output_type": "execute_result",
          "data": {
            "text/plain": [
              "array(['USD', 'HKD', 'CNY', 'CAD', 'INR', 'EUR', 'KRW', 'CHF', 'TWD',\n",
              "       'ZAR', 'JPY'], dtype=object)"
            ]
          },
          "metadata": {},
          "execution_count": 14
        }
      ]
    },
    {
      "cell_type": "code",
      "metadata": {
        "id": "LZGjhQCPw50P"
      },
      "source": [
        "afterprocess = pd.read_csv('/content/indexProcessed.csv')"
      ],
      "execution_count": null,
      "outputs": []
    },
    {
      "cell_type": "code",
      "metadata": {
        "colab": {
          "base_uri": "https://localhost:8080/",
          "height": 203
        },
        "id": "GFVZoTaZxM1A",
        "outputId": "e81eb9ea-9756-4f91-d77a-eecf5379b754"
      },
      "source": [
        "afterprocess.head()"
      ],
      "execution_count": null,
      "outputs": [
        {
          "output_type": "execute_result",
          "data": {
            "text/html": [
              "<div>\n",
              "<style scoped>\n",
              "    .dataframe tbody tr th:only-of-type {\n",
              "        vertical-align: middle;\n",
              "    }\n",
              "\n",
              "    .dataframe tbody tr th {\n",
              "        vertical-align: top;\n",
              "    }\n",
              "\n",
              "    .dataframe thead th {\n",
              "        text-align: right;\n",
              "    }\n",
              "</style>\n",
              "<table border=\"1\" class=\"dataframe\">\n",
              "  <thead>\n",
              "    <tr style=\"text-align: right;\">\n",
              "      <th></th>\n",
              "      <th>Index</th>\n",
              "      <th>Date</th>\n",
              "      <th>Open</th>\n",
              "      <th>High</th>\n",
              "      <th>Low</th>\n",
              "      <th>Close</th>\n",
              "      <th>Adj Close</th>\n",
              "      <th>Volume</th>\n",
              "      <th>CloseUSD</th>\n",
              "    </tr>\n",
              "  </thead>\n",
              "  <tbody>\n",
              "    <tr>\n",
              "      <th>0</th>\n",
              "      <td>HSI</td>\n",
              "      <td>1986-12-31</td>\n",
              "      <td>2568.300049</td>\n",
              "      <td>2568.300049</td>\n",
              "      <td>2568.300049</td>\n",
              "      <td>2568.300049</td>\n",
              "      <td>2568.300049</td>\n",
              "      <td>0.0</td>\n",
              "      <td>333.879006</td>\n",
              "    </tr>\n",
              "    <tr>\n",
              "      <th>1</th>\n",
              "      <td>HSI</td>\n",
              "      <td>1987-01-02</td>\n",
              "      <td>2540.100098</td>\n",
              "      <td>2540.100098</td>\n",
              "      <td>2540.100098</td>\n",
              "      <td>2540.100098</td>\n",
              "      <td>2540.100098</td>\n",
              "      <td>0.0</td>\n",
              "      <td>330.213013</td>\n",
              "    </tr>\n",
              "    <tr>\n",
              "      <th>2</th>\n",
              "      <td>HSI</td>\n",
              "      <td>1987-01-05</td>\n",
              "      <td>2552.399902</td>\n",
              "      <td>2552.399902</td>\n",
              "      <td>2552.399902</td>\n",
              "      <td>2552.399902</td>\n",
              "      <td>2552.399902</td>\n",
              "      <td>0.0</td>\n",
              "      <td>331.811987</td>\n",
              "    </tr>\n",
              "    <tr>\n",
              "      <th>3</th>\n",
              "      <td>HSI</td>\n",
              "      <td>1987-01-06</td>\n",
              "      <td>2583.899902</td>\n",
              "      <td>2583.899902</td>\n",
              "      <td>2583.899902</td>\n",
              "      <td>2583.899902</td>\n",
              "      <td>2583.899902</td>\n",
              "      <td>0.0</td>\n",
              "      <td>335.906987</td>\n",
              "    </tr>\n",
              "    <tr>\n",
              "      <th>4</th>\n",
              "      <td>HSI</td>\n",
              "      <td>1987-01-07</td>\n",
              "      <td>2607.100098</td>\n",
              "      <td>2607.100098</td>\n",
              "      <td>2607.100098</td>\n",
              "      <td>2607.100098</td>\n",
              "      <td>2607.100098</td>\n",
              "      <td>0.0</td>\n",
              "      <td>338.923013</td>\n",
              "    </tr>\n",
              "  </tbody>\n",
              "</table>\n",
              "</div>"
            ],
            "text/plain": [
              "  Index        Date         Open  ...    Adj Close  Volume    CloseUSD\n",
              "0   HSI  1986-12-31  2568.300049  ...  2568.300049     0.0  333.879006\n",
              "1   HSI  1987-01-02  2540.100098  ...  2540.100098     0.0  330.213013\n",
              "2   HSI  1987-01-05  2552.399902  ...  2552.399902     0.0  331.811987\n",
              "3   HSI  1987-01-06  2583.899902  ...  2583.899902     0.0  335.906987\n",
              "4   HSI  1987-01-07  2607.100098  ...  2607.100098     0.0  338.923013\n",
              "\n",
              "[5 rows x 9 columns]"
            ]
          },
          "metadata": {},
          "execution_count": 16
        }
      ]
    },
    {
      "cell_type": "markdown",
      "metadata": {
        "id": "yjy-G-DQyGqc"
      },
      "source": [
        "Can find the exchange rate directly from the afterprocess file by using Close/Close Usd, a exchange rate will be return "
      ]
    },
    {
      "cell_type": "code",
      "metadata": {
        "id": "60Zb3ccOxOAu"
      },
      "source": [
        "afterprocess['Exchanged Rate to USD'] = afterprocess['Close']/afterprocess['CloseUSD']"
      ],
      "execution_count": null,
      "outputs": []
    },
    {
      "cell_type": "code",
      "metadata": {
        "colab": {
          "base_uri": "https://localhost:8080/",
          "height": 203
        },
        "id": "Zgj4k5Kbyyal",
        "outputId": "dc506d84-7615-40cd-8789-0a7246458838"
      },
      "source": [
        "afterprocess.head()"
      ],
      "execution_count": null,
      "outputs": [
        {
          "output_type": "execute_result",
          "data": {
            "text/html": [
              "<div>\n",
              "<style scoped>\n",
              "    .dataframe tbody tr th:only-of-type {\n",
              "        vertical-align: middle;\n",
              "    }\n",
              "\n",
              "    .dataframe tbody tr th {\n",
              "        vertical-align: top;\n",
              "    }\n",
              "\n",
              "    .dataframe thead th {\n",
              "        text-align: right;\n",
              "    }\n",
              "</style>\n",
              "<table border=\"1\" class=\"dataframe\">\n",
              "  <thead>\n",
              "    <tr style=\"text-align: right;\">\n",
              "      <th></th>\n",
              "      <th>Index</th>\n",
              "      <th>Date</th>\n",
              "      <th>Open</th>\n",
              "      <th>High</th>\n",
              "      <th>Low</th>\n",
              "      <th>Close</th>\n",
              "      <th>Adj Close</th>\n",
              "      <th>Volume</th>\n",
              "      <th>CloseUSD</th>\n",
              "      <th>Exchanged Rate to USD</th>\n",
              "    </tr>\n",
              "  </thead>\n",
              "  <tbody>\n",
              "    <tr>\n",
              "      <th>0</th>\n",
              "      <td>HSI</td>\n",
              "      <td>1986-12-31</td>\n",
              "      <td>2568.300049</td>\n",
              "      <td>2568.300049</td>\n",
              "      <td>2568.300049</td>\n",
              "      <td>2568.300049</td>\n",
              "      <td>2568.300049</td>\n",
              "      <td>0.0</td>\n",
              "      <td>333.879006</td>\n",
              "      <td>7.692308</td>\n",
              "    </tr>\n",
              "    <tr>\n",
              "      <th>1</th>\n",
              "      <td>HSI</td>\n",
              "      <td>1987-01-02</td>\n",
              "      <td>2540.100098</td>\n",
              "      <td>2540.100098</td>\n",
              "      <td>2540.100098</td>\n",
              "      <td>2540.100098</td>\n",
              "      <td>2540.100098</td>\n",
              "      <td>0.0</td>\n",
              "      <td>330.213013</td>\n",
              "      <td>7.692308</td>\n",
              "    </tr>\n",
              "    <tr>\n",
              "      <th>2</th>\n",
              "      <td>HSI</td>\n",
              "      <td>1987-01-05</td>\n",
              "      <td>2552.399902</td>\n",
              "      <td>2552.399902</td>\n",
              "      <td>2552.399902</td>\n",
              "      <td>2552.399902</td>\n",
              "      <td>2552.399902</td>\n",
              "      <td>0.0</td>\n",
              "      <td>331.811987</td>\n",
              "      <td>7.692308</td>\n",
              "    </tr>\n",
              "    <tr>\n",
              "      <th>3</th>\n",
              "      <td>HSI</td>\n",
              "      <td>1987-01-06</td>\n",
              "      <td>2583.899902</td>\n",
              "      <td>2583.899902</td>\n",
              "      <td>2583.899902</td>\n",
              "      <td>2583.899902</td>\n",
              "      <td>2583.899902</td>\n",
              "      <td>0.0</td>\n",
              "      <td>335.906987</td>\n",
              "      <td>7.692308</td>\n",
              "    </tr>\n",
              "    <tr>\n",
              "      <th>4</th>\n",
              "      <td>HSI</td>\n",
              "      <td>1987-01-07</td>\n",
              "      <td>2607.100098</td>\n",
              "      <td>2607.100098</td>\n",
              "      <td>2607.100098</td>\n",
              "      <td>2607.100098</td>\n",
              "      <td>2607.100098</td>\n",
              "      <td>0.0</td>\n",
              "      <td>338.923013</td>\n",
              "      <td>7.692308</td>\n",
              "    </tr>\n",
              "  </tbody>\n",
              "</table>\n",
              "</div>"
            ],
            "text/plain": [
              "  Index        Date         Open  ...  Volume    CloseUSD  Exchanged Rate to USD\n",
              "0   HSI  1986-12-31  2568.300049  ...     0.0  333.879006               7.692308\n",
              "1   HSI  1987-01-02  2540.100098  ...     0.0  330.213013               7.692308\n",
              "2   HSI  1987-01-05  2552.399902  ...     0.0  331.811987               7.692308\n",
              "3   HSI  1987-01-06  2583.899902  ...     0.0  335.906987               7.692308\n",
              "4   HSI  1987-01-07  2607.100098  ...     0.0  338.923013               7.692308\n",
              "\n",
              "[5 rows x 10 columns]"
            ]
          },
          "metadata": {},
          "execution_count": 18
        }
      ]
    },
    {
      "cell_type": "code",
      "metadata": {
        "colab": {
          "base_uri": "https://localhost:8080/",
          "height": 282
        },
        "id": "6SyQBsfdzeNM",
        "outputId": "b7fa4612-bb67-42cc-ca77-a53bce4e5c30"
      },
      "source": [
        "HSI = afterprocess[afterprocess['Index']=='HSI']\n",
        "plt.plot(HSI['Exchanged Rate to USD'])"
      ],
      "execution_count": null,
      "outputs": [
        {
          "output_type": "execute_result",
          "data": {
            "text/plain": [
              "[<matplotlib.lines.Line2D at 0x7f9b9fcff2d0>]"
            ]
          },
          "metadata": {},
          "execution_count": 19
        },
        {
          "output_type": "display_data",
          "data": {
            "image/png": "[encoded data removed]",
            "text/plain": [
              "<Figure size 432x288 with 1 Axes>"
            ]
          },
          "metadata": {
            "needs_background": "light"
          }
        }
      ]
    },
    {
      "cell_type": "markdown",
      "metadata": {
        "id": "yyCucQyY1GXE"
      },
      "source": [
        "It's very weird for a currency that it doesn't floating and remain on the same point, hence we can have a guess it might be using the currency that this database is created rather than the online version of currency exchange rate, but we can try out one more to examine our thoughts "
      ]
    },
    {
      "cell_type": "code",
      "metadata": {
        "colab": {
          "base_uri": "https://localhost:8080/",
          "height": 282
        },
        "id": "CuIDcy4F03Zo",
        "outputId": "f78b0ee3-8be7-443e-eb4d-fba0dfc4a67a"
      },
      "source": [
        "N225= afterprocess[afterprocess['Index']=='N225']\n",
        "plt.plot(N225['Exchanged Rate to USD'])"
      ],
      "execution_count": null,
      "outputs": [
        {
          "output_type": "execute_result",
          "data": {
            "text/plain": [
              "[<matplotlib.lines.Line2D at 0x7f9b97e86a10>]"
            ]
          },
          "metadata": {},
          "execution_count": 20
        },
        {
          "output_type": "display_data",
          "data": {
            "image/png": "[encoded data removed]",
            "text/plain": [
              "<Figure size 432x288 with 1 Axes>"
            ]
          },
          "metadata": {
            "needs_background": "light"
          }
        }
      ]
    },
    {
      "cell_type": "code",
      "metadata": {
        "colab": {
          "base_uri": "https://localhost:8080/"
        },
        "id": "buiU9yt51gOo",
        "outputId": "6f5869e8-4a49-4679-d088-46b1ab06b9b6"
      },
      "source": [
        "rates = {}\n",
        "for x in indexinfo.Index.tolist():\n",
        "    indexname = afterprocess[afterprocess.Index==x]\n",
        "    values = indexname['Exchanged Rate to USD'].values\n",
        "    name = '{}_USD'.format(indexinfo[indexinfo.Index == x].Currency.values[0])\n",
        "    if name not in rates:\n",
        "        if len(values) > 0:\n",
        "            rates[name] = values[0]\n",
        "            print('{0}:{1}'.format(name, float(values[0])))\n",
        "        else:\n",
        "            rates[name] = 'NaN'\n",
        "            print('{0}:{1}'.format(name, 'NaN'))\n",
        "    else:\n",
        "        pass"
      ],
      "execution_count": null,
      "outputs": [
        {
          "output_type": "stream",
          "text": [
            "USD_USD:1.0\n",
            "HKD_USD:7.692307692307692\n",
            "CNY_USD:6.249999999999999\n",
            "JPY_USD:100.0\n",
            "EUR_USD:0.819672131147541\n",
            "CAD_USD:1.2048192771084336\n",
            "INR_USD:99.99999999999997\n",
            "KRW_USD:NaN\n",
            "CHF_USD:0.9009009009009008\n",
            "TWD_USD:25.0\n",
            "ZAR_USD:14.285714285714288\n"
          ],
          "name": "stdout"
        }
      ]
    },
    {
      "cell_type": "code",
      "metadata": {
        "id": "EAfGFoRQHpR4"
      },
      "source": [
        "stocks_index = stocks_index.sort_values(by='Index',ascending=True)"
      ],
      "execution_count": null,
      "outputs": []
    },
    {
      "cell_type": "code",
      "metadata": {
        "colab": {
          "base_uri": "https://localhost:8080/"
        },
        "id": "40g7ULYOICsE",
        "outputId": "f1a5757d-171b-4b30-fc8e-eb98512958d4"
      },
      "source": [
        "idx =sorted(stocks_index.Index.unique().tolist())\n",
        "idx"
      ],
      "execution_count": null,
      "outputs": [
        {
          "output_type": "execute_result",
          "data": {
            "text/plain": [
              "['000001.SS',\n",
              " '399001.SZ',\n",
              " 'GDAXI',\n",
              " 'GSPTSE',\n",
              " 'HSI',\n",
              " 'IXIC',\n",
              " 'J203.JO',\n",
              " 'KS11',\n",
              " 'N100',\n",
              " 'N225',\n",
              " 'NSEI',\n",
              " 'NYA',\n",
              " 'SSMI',\n",
              " 'TWII']"
            ]
          },
          "metadata": {},
          "execution_count": 23
        }
      ]
    },
    {
      "cell_type": "code",
      "metadata": {
        "id": "UlFyCvMLGXuK"
      },
      "source": [
        "exchange_rates = [6.249999999999999,6.249999999999999,0.819672131147541,1.2048192771084336,7.692307692307692,\n",
        "                  1.0,14.285714285714288,0,0.819672131147541,100.0,99.99999999999997,1.0,0.9009009009009008,\n",
        "                  25.0]"
      ],
      "execution_count": null,
      "outputs": []
    },
    {
      "cell_type": "code",
      "metadata": {
        "colab": {
          "base_uri": "https://localhost:8080/"
        },
        "id": "4AMuknXXGZgV",
        "outputId": "50ffccf9-6ce8-4a39-f57c-73c93360b39e"
      },
      "source": [
        "exchange_rates[2]"
      ],
      "execution_count": null,
      "outputs": [
        {
          "output_type": "execute_result",
          "data": {
            "text/plain": [
              "0.819672131147541"
            ]
          },
          "metadata": {},
          "execution_count": 25
        }
      ]
    },
    {
      "cell_type": "code",
      "metadata": {
        "colab": {
          "base_uri": "https://localhost:8080/"
        },
        "id": "K4HzhLz7HR4i",
        "outputId": "20bd168b-7a07-44e7-d494-c87b3e1aadf3"
      },
      "source": [
        "len(exchange_rates)"
      ],
      "execution_count": null,
      "outputs": [
        {
          "output_type": "execute_result",
          "data": {
            "text/plain": [
              "14"
            ]
          },
          "metadata": {},
          "execution_count": 26
        }
      ]
    },
    {
      "cell_type": "code",
      "metadata": {
        "id": "5L5pZphcLpeH"
      },
      "source": [
        "stocks_index = stocks_index.reset_index(drop=True)"
      ],
      "execution_count": null,
      "outputs": []
    },
    {
      "cell_type": "code",
      "metadata": {
        "id": "RsJknsx5N1Xv"
      },
      "source": [
        "stocks_index['Close (USD)'] = 0 "
      ],
      "execution_count": null,
      "outputs": []
    },
    {
      "cell_type": "code",
      "metadata": {
        "colab": {
          "base_uri": "https://localhost:8080/"
        },
        "id": "JNvEX_K3Lx9t",
        "outputId": "9f1c8b35-cbf8-43eb-eea3-3acd1f90c1ea"
      },
      "source": [
        "num = exchange_rates\n",
        "for i in range(len(stocks_index)):\n",
        "    if stocks_index.iloc[i,0] == '000001.SS': \n",
        "      stocks_index.iloc[i,11] = stocks_index.iloc[i,5] / num[0]\n",
        "    elif stocks_index.iloc[i,0] == '399001.SZ': \n",
        "      stocks_index.iloc[i,11] = stocks_index.iloc[i,5] / num[1]\n",
        "    elif stocks_index.iloc[i,0] == 'GDAXI': \n",
        "      stocks_index.iloc[i,11] = stocks_index.iloc[i,5] / num[2]\n",
        "    elif stocks_index.iloc[i,0] == 'GSPTSE': \n",
        "      stocks_index.iloc[i,11] = stocks_index.iloc[i,5] / num[3]\n",
        "    elif stocks_index.iloc[i,0] == 'HSI': \n",
        "      stocks_index.iloc[i,11] = stocks_index.iloc[i,5] / num[4]\n",
        "    elif stocks_index.iloc[i,0] == 'IXIC': \n",
        "      stocks_index.iloc[i,11] = stocks_index.iloc[i,5] / num[5]\n",
        "    elif stocks_index.iloc[i,0] == 'J203.JO': \n",
        "      stocks_index.iloc[i,11] = stocks_index.iloc[i,5] / num[6]\n",
        "    elif stocks_index.iloc[i,0] == 'KS11': \n",
        "      stocks_index.iloc[i,11] = stocks_index.iloc[i,5] / num[7]\n",
        "    elif stocks_index.iloc[i,0] == 'N100': \n",
        "      stocks_index.iloc[i,11] = stocks_index.iloc[i,5] / num[8]\n",
        "    elif stocks_index.iloc[i,0] == 'N225': \n",
        "      stocks_index.iloc[i,11] = stocks_index.iloc[i,5] / num[9]\n",
        "    elif stocks_index.iloc[i,0] == 'NSEI': \n",
        "      stocks_index.iloc[i,11] = stocks_index.iloc[i,5] / num[10]\n",
        "    elif stocks_index.iloc[i,0] == 'NYA': \n",
        "      stocks_index.iloc[i,11] = stocks_index.iloc[i,5] / num[11]\n",
        "    elif stocks_index.iloc[i,0] == 'SSMI': \n",
        "      stocks_index.iloc[i,11] = stocks_index.iloc[i,5] / num[12]\n",
        "    elif stocks_index.iloc[i,0] == 'TWII': \n",
        "      stocks_index.iloc[i,11] = stocks_index.iloc[i,5] / num[13]\n",
        "\n",
        "\n",
        "    "
      ],
      "execution_count": null,
      "outputs": [
        {
          "output_type": "stream",
          "text": [
            "/usr/local/lib/python3.7/dist-packages/ipykernel_launcher.py:18: RuntimeWarning: divide by zero encountered in double_scalars\n"
          ],
          "name": "stderr"
        }
      ]
    },
    {
      "cell_type": "code",
      "metadata": {
        "colab": {
          "base_uri": "https://localhost:8080/",
          "height": 770
        },
        "id": "-079brl-DCBH",
        "outputId": "ffdad088-f50b-40bc-b33e-1edd634fa0ab"
      },
      "source": [
        "stocks_index.sort_values(by=['Index','Date'])"
      ],
      "execution_count": null,
      "outputs": [
        {
          "output_type": "execute_result",
          "data": {
            "text/html": [
              "<div>\n",
              "<style scoped>\n",
              "    .dataframe tbody tr th:only-of-type {\n",
              "        vertical-align: middle;\n",
              "    }\n",
              "\n",
              "    .dataframe tbody tr th {\n",
              "        vertical-align: top;\n",
              "    }\n",
              "\n",
              "    .dataframe thead th {\n",
              "        text-align: right;\n",
              "    }\n",
              "</style>\n",
              "<table border=\"1\" class=\"dataframe\">\n",
              "  <thead>\n",
              "    <tr style=\"text-align: right;\">\n",
              "      <th></th>\n",
              "      <th>Index</th>\n",
              "      <th>Date</th>\n",
              "      <th>Open</th>\n",
              "      <th>High</th>\n",
              "      <th>Low</th>\n",
              "      <th>Close</th>\n",
              "      <th>Adj Close</th>\n",
              "      <th>Volume</th>\n",
              "      <th>Region</th>\n",
              "      <th>Exchange</th>\n",
              "      <th>Currency</th>\n",
              "      <th>Close (USD)</th>\n",
              "    </tr>\n",
              "  </thead>\n",
              "  <tbody>\n",
              "    <tr>\n",
              "      <th>2895</th>\n",
              "      <td>000001.SS</td>\n",
              "      <td>1997-07-02</td>\n",
              "      <td>1255.909058</td>\n",
              "      <td>1261.571045</td>\n",
              "      <td>1147.331055</td>\n",
              "      <td>1199.061035</td>\n",
              "      <td>1199.061035</td>\n",
              "      <td>0.0</td>\n",
              "      <td>China</td>\n",
              "      <td>Shanghai Stock Exchange</td>\n",
              "      <td>CNY</td>\n",
              "      <td>191.849766</td>\n",
              "    </tr>\n",
              "    <tr>\n",
              "      <th>3863</th>\n",
              "      <td>000001.SS</td>\n",
              "      <td>1997-07-03</td>\n",
              "      <td>1194.676025</td>\n",
              "      <td>1194.676025</td>\n",
              "      <td>1149.939941</td>\n",
              "      <td>1150.623047</td>\n",
              "      <td>1150.623047</td>\n",
              "      <td>0.0</td>\n",
              "      <td>China</td>\n",
              "      <td>Shanghai Stock Exchange</td>\n",
              "      <td>CNY</td>\n",
              "      <td>184.099688</td>\n",
              "    </tr>\n",
              "    <tr>\n",
              "      <th>3862</th>\n",
              "      <td>000001.SS</td>\n",
              "      <td>1997-07-04</td>\n",
              "      <td>1138.921021</td>\n",
              "      <td>1163.249023</td>\n",
              "      <td>1124.776001</td>\n",
              "      <td>1159.342041</td>\n",
              "      <td>1159.342041</td>\n",
              "      <td>0.0</td>\n",
              "      <td>China</td>\n",
              "      <td>Shanghai Stock Exchange</td>\n",
              "      <td>CNY</td>\n",
              "      <td>185.494727</td>\n",
              "    </tr>\n",
              "    <tr>\n",
              "      <th>3861</th>\n",
              "      <td>000001.SS</td>\n",
              "      <td>1997-07-07</td>\n",
              "      <td>1161.707031</td>\n",
              "      <td>1163.447021</td>\n",
              "      <td>1085.572021</td>\n",
              "      <td>1096.818970</td>\n",
              "      <td>1096.818970</td>\n",
              "      <td>0.0</td>\n",
              "      <td>China</td>\n",
              "      <td>Shanghai Stock Exchange</td>\n",
              "      <td>CNY</td>\n",
              "      <td>175.491035</td>\n",
              "    </tr>\n",
              "    <tr>\n",
              "      <th>3860</th>\n",
              "      <td>000001.SS</td>\n",
              "      <td>1997-07-08</td>\n",
              "      <td>1092.798950</td>\n",
              "      <td>1115.432983</td>\n",
              "      <td>1066.043945</td>\n",
              "      <td>1109.666016</td>\n",
              "      <td>1109.666016</td>\n",
              "      <td>0.0</td>\n",
              "      <td>China</td>\n",
              "      <td>Shanghai Stock Exchange</td>\n",
              "      <td>CNY</td>\n",
              "      <td>177.546563</td>\n",
              "    </tr>\n",
              "    <tr>\n",
              "      <th>...</th>\n",
              "      <td>...</td>\n",
              "      <td>...</td>\n",
              "      <td>...</td>\n",
              "      <td>...</td>\n",
              "      <td>...</td>\n",
              "      <td>...</td>\n",
              "      <td>...</td>\n",
              "      <td>...</td>\n",
              "      <td>...</td>\n",
              "      <td>...</td>\n",
              "      <td>...</td>\n",
              "      <td>...</td>\n",
              "    </tr>\n",
              "    <tr>\n",
              "      <th>106337</th>\n",
              "      <td>TWII</td>\n",
              "      <td>2021-05-25</td>\n",
              "      <td>16444.750000</td>\n",
              "      <td>16657.599610</td>\n",
              "      <td>16444.750000</td>\n",
              "      <td>16595.669920</td>\n",
              "      <td>16595.669920</td>\n",
              "      <td>9038500.0</td>\n",
              "      <td>Taiwan</td>\n",
              "      <td>Taiwan Stock Exchange</td>\n",
              "      <td>TWD</td>\n",
              "      <td>663.826797</td>\n",
              "    </tr>\n",
              "    <tr>\n",
              "      <th>106336</th>\n",
              "      <td>TWII</td>\n",
              "      <td>2021-05-26</td>\n",
              "      <td>16645.169920</td>\n",
              "      <td>16706.289060</td>\n",
              "      <td>16523.230470</td>\n",
              "      <td>16643.689450</td>\n",
              "      <td>16643.689450</td>\n",
              "      <td>6816100.0</td>\n",
              "      <td>Taiwan</td>\n",
              "      <td>Taiwan Stock Exchange</td>\n",
              "      <td>TWD</td>\n",
              "      <td>665.747578</td>\n",
              "    </tr>\n",
              "    <tr>\n",
              "      <th>106335</th>\n",
              "      <td>TWII</td>\n",
              "      <td>2021-05-27</td>\n",
              "      <td>16591.699220</td>\n",
              "      <td>16601.609380</td>\n",
              "      <td>16419.419920</td>\n",
              "      <td>16601.609380</td>\n",
              "      <td>16601.609380</td>\n",
              "      <td>8532000.0</td>\n",
              "      <td>Taiwan</td>\n",
              "      <td>Taiwan Stock Exchange</td>\n",
              "      <td>TWD</td>\n",
              "      <td>664.064375</td>\n",
              "    </tr>\n",
              "    <tr>\n",
              "      <th>106334</th>\n",
              "      <td>TWII</td>\n",
              "      <td>2021-05-28</td>\n",
              "      <td>16690.039060</td>\n",
              "      <td>16889.009770</td>\n",
              "      <td>16690.039060</td>\n",
              "      <td>16870.859380</td>\n",
              "      <td>16870.859380</td>\n",
              "      <td>8549300.0</td>\n",
              "      <td>Taiwan</td>\n",
              "      <td>Taiwan Stock Exchange</td>\n",
              "      <td>TWD</td>\n",
              "      <td>674.834375</td>\n",
              "    </tr>\n",
              "    <tr>\n",
              "      <th>106333</th>\n",
              "      <td>TWII</td>\n",
              "      <td>2021-05-31</td>\n",
              "      <td>16948.470700</td>\n",
              "      <td>17113.330080</td>\n",
              "      <td>16939.910160</td>\n",
              "      <td>17068.429690</td>\n",
              "      <td>17068.429690</td>\n",
              "      <td>9490500.0</td>\n",
              "      <td>Taiwan</td>\n",
              "      <td>Taiwan Stock Exchange</td>\n",
              "      <td>TWD</td>\n",
              "      <td>682.737188</td>\n",
              "    </tr>\n",
              "  </tbody>\n",
              "</table>\n",
              "<p>110253 rows × 12 columns</p>\n",
              "</div>"
            ],
            "text/plain": [
              "            Index        Date  ...  Currency  Close (USD)\n",
              "2895    000001.SS  1997-07-02  ...       CNY   191.849766\n",
              "3863    000001.SS  1997-07-03  ...       CNY   184.099688\n",
              "3862    000001.SS  1997-07-04  ...       CNY   185.494727\n",
              "3861    000001.SS  1997-07-07  ...       CNY   175.491035\n",
              "3860    000001.SS  1997-07-08  ...       CNY   177.546563\n",
              "...           ...         ...  ...       ...          ...\n",
              "106337       TWII  2021-05-25  ...       TWD   663.826797\n",
              "106336       TWII  2021-05-26  ...       TWD   665.747578\n",
              "106335       TWII  2021-05-27  ...       TWD   664.064375\n",
              "106334       TWII  2021-05-28  ...       TWD   674.834375\n",
              "106333       TWII  2021-05-31  ...       TWD   682.737188\n",
              "\n",
              "[110253 rows x 12 columns]"
            ]
          },
          "metadata": {},
          "execution_count": 30
        }
      ]
    },
    {
      "cell_type": "code",
      "metadata": {
        "id": "tldyc6-0KdJm"
      },
      "source": [
        "stocks_index['Date'] = pd.to_datetime(stocks_index['Date'])\n"
      ],
      "execution_count": null,
      "outputs": []
    },
    {
      "cell_type": "code",
      "metadata": {
        "id": "bl2CRkeRGvay"
      },
      "source": [
        "stocks_index = stocks_index.sort_values(by=['Index','Date'],ascending=[True,True])"
      ],
      "execution_count": null,
      "outputs": []
    },
    {
      "cell_type": "code",
      "metadata": {
        "id": "v0PtPL2DLT0Q"
      },
      "source": [
        "stocks_index = stocks_index.reset_index(drop=True)"
      ],
      "execution_count": null,
      "outputs": []
    },
    {
      "cell_type": "code",
      "metadata": {
        "id": "UGDntyISLg7V"
      },
      "source": [
        "stocks_index = stocks_index[stocks_index['Index'] != 'KS11' ]\n",
        "stocks_index = stocks_index.drop(columns=['Region','Exchange','Currency'])"
      ],
      "execution_count": null,
      "outputs": []
    },
    {
      "cell_type": "code",
      "metadata": {
        "colab": {
          "base_uri": "https://localhost:8080/",
          "height": 417
        },
        "id": "dnH6_noKNfJb",
        "outputId": "aa96dba7-0130-4eb8-e388-63344dd20999"
      },
      "source": [
        "stocks_index"
      ],
      "execution_count": null,
      "outputs": [
        {
          "output_type": "execute_result",
          "data": {
            "text/html": [
              "<div>\n",
              "<style scoped>\n",
              "    .dataframe tbody tr th:only-of-type {\n",
              "        vertical-align: middle;\n",
              "    }\n",
              "\n",
              "    .dataframe tbody tr th {\n",
              "        vertical-align: top;\n",
              "    }\n",
              "\n",
              "    .dataframe thead th {\n",
              "        text-align: right;\n",
              "    }\n",
              "</style>\n",
              "<table border=\"1\" class=\"dataframe\">\n",
              "  <thead>\n",
              "    <tr style=\"text-align: right;\">\n",
              "      <th></th>\n",
              "      <th>Index</th>\n",
              "      <th>Date</th>\n",
              "      <th>Open</th>\n",
              "      <th>High</th>\n",
              "      <th>Low</th>\n",
              "      <th>Close</th>\n",
              "      <th>Adj Close</th>\n",
              "      <th>Volume</th>\n",
              "      <th>Close (USD)</th>\n",
              "    </tr>\n",
              "  </thead>\n",
              "  <tbody>\n",
              "    <tr>\n",
              "      <th>0</th>\n",
              "      <td>000001.SS</td>\n",
              "      <td>1997-07-02</td>\n",
              "      <td>1255.909058</td>\n",
              "      <td>1261.571045</td>\n",
              "      <td>1147.331055</td>\n",
              "      <td>1199.061035</td>\n",
              "      <td>1199.061035</td>\n",
              "      <td>0.0</td>\n",
              "      <td>191.849766</td>\n",
              "    </tr>\n",
              "    <tr>\n",
              "      <th>1</th>\n",
              "      <td>000001.SS</td>\n",
              "      <td>1997-07-03</td>\n",
              "      <td>1194.676025</td>\n",
              "      <td>1194.676025</td>\n",
              "      <td>1149.939941</td>\n",
              "      <td>1150.623047</td>\n",
              "      <td>1150.623047</td>\n",
              "      <td>0.0</td>\n",
              "      <td>184.099688</td>\n",
              "    </tr>\n",
              "    <tr>\n",
              "      <th>2</th>\n",
              "      <td>000001.SS</td>\n",
              "      <td>1997-07-04</td>\n",
              "      <td>1138.921021</td>\n",
              "      <td>1163.249023</td>\n",
              "      <td>1124.776001</td>\n",
              "      <td>1159.342041</td>\n",
              "      <td>1159.342041</td>\n",
              "      <td>0.0</td>\n",
              "      <td>185.494727</td>\n",
              "    </tr>\n",
              "    <tr>\n",
              "      <th>3</th>\n",
              "      <td>000001.SS</td>\n",
              "      <td>1997-07-07</td>\n",
              "      <td>1161.707031</td>\n",
              "      <td>1163.447021</td>\n",
              "      <td>1085.572021</td>\n",
              "      <td>1096.818970</td>\n",
              "      <td>1096.818970</td>\n",
              "      <td>0.0</td>\n",
              "      <td>175.491035</td>\n",
              "    </tr>\n",
              "    <tr>\n",
              "      <th>4</th>\n",
              "      <td>000001.SS</td>\n",
              "      <td>1997-07-08</td>\n",
              "      <td>1092.798950</td>\n",
              "      <td>1115.432983</td>\n",
              "      <td>1066.043945</td>\n",
              "      <td>1109.666016</td>\n",
              "      <td>1109.666016</td>\n",
              "      <td>0.0</td>\n",
              "      <td>177.546563</td>\n",
              "    </tr>\n",
              "    <tr>\n",
              "      <th>...</th>\n",
              "      <td>...</td>\n",
              "      <td>...</td>\n",
              "      <td>...</td>\n",
              "      <td>...</td>\n",
              "      <td>...</td>\n",
              "      <td>...</td>\n",
              "      <td>...</td>\n",
              "      <td>...</td>\n",
              "      <td>...</td>\n",
              "    </tr>\n",
              "    <tr>\n",
              "      <th>110248</th>\n",
              "      <td>TWII</td>\n",
              "      <td>2021-05-25</td>\n",
              "      <td>16444.750000</td>\n",
              "      <td>16657.599610</td>\n",
              "      <td>16444.750000</td>\n",
              "      <td>16595.669920</td>\n",
              "      <td>16595.669920</td>\n",
              "      <td>9038500.0</td>\n",
              "      <td>663.826797</td>\n",
              "    </tr>\n",
              "    <tr>\n",
              "      <th>110249</th>\n",
              "      <td>TWII</td>\n",
              "      <td>2021-05-26</td>\n",
              "      <td>16645.169920</td>\n",
              "      <td>16706.289060</td>\n",
              "      <td>16523.230470</td>\n",
              "      <td>16643.689450</td>\n",
              "      <td>16643.689450</td>\n",
              "      <td>6816100.0</td>\n",
              "      <td>665.747578</td>\n",
              "    </tr>\n",
              "    <tr>\n",
              "      <th>110250</th>\n",
              "      <td>TWII</td>\n",
              "      <td>2021-05-27</td>\n",
              "      <td>16591.699220</td>\n",
              "      <td>16601.609380</td>\n",
              "      <td>16419.419920</td>\n",
              "      <td>16601.609380</td>\n",
              "      <td>16601.609380</td>\n",
              "      <td>8532000.0</td>\n",
              "      <td>664.064375</td>\n",
              "    </tr>\n",
              "    <tr>\n",
              "      <th>110251</th>\n",
              "      <td>TWII</td>\n",
              "      <td>2021-05-28</td>\n",
              "      <td>16690.039060</td>\n",
              "      <td>16889.009770</td>\n",
              "      <td>16690.039060</td>\n",
              "      <td>16870.859380</td>\n",
              "      <td>16870.859380</td>\n",
              "      <td>8549300.0</td>\n",
              "      <td>674.834375</td>\n",
              "    </tr>\n",
              "    <tr>\n",
              "      <th>110252</th>\n",
              "      <td>TWII</td>\n",
              "      <td>2021-05-31</td>\n",
              "      <td>16948.470700</td>\n",
              "      <td>17113.330080</td>\n",
              "      <td>16939.910160</td>\n",
              "      <td>17068.429690</td>\n",
              "      <td>17068.429690</td>\n",
              "      <td>9490500.0</td>\n",
              "      <td>682.737188</td>\n",
              "    </tr>\n",
              "  </tbody>\n",
              "</table>\n",
              "<p>104224 rows × 9 columns</p>\n",
              "</div>"
            ],
            "text/plain": [
              "            Index       Date  ...     Volume  Close (USD)\n",
              "0       000001.SS 1997-07-02  ...        0.0   191.849766\n",
              "1       000001.SS 1997-07-03  ...        0.0   184.099688\n",
              "2       000001.SS 1997-07-04  ...        0.0   185.494727\n",
              "3       000001.SS 1997-07-07  ...        0.0   175.491035\n",
              "4       000001.SS 1997-07-08  ...        0.0   177.546563\n",
              "...           ...        ...  ...        ...          ...\n",
              "110248       TWII 2021-05-25  ...  9038500.0   663.826797\n",
              "110249       TWII 2021-05-26  ...  6816100.0   665.747578\n",
              "110250       TWII 2021-05-27  ...  8532000.0   664.064375\n",
              "110251       TWII 2021-05-28  ...  8549300.0   674.834375\n",
              "110252       TWII 2021-05-31  ...  9490500.0   682.737188\n",
              "\n",
              "[104224 rows x 9 columns]"
            ]
          },
          "metadata": {},
          "execution_count": 44
        }
      ]
    },
    {
      "cell_type": "code",
      "metadata": {
        "id": "fGunSRdSOMRB"
      },
      "source": [
        ""
      ],
      "execution_count": null,
      "outputs": []
    }
  ]
}